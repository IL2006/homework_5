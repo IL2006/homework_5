{
 "cells": [
  {
   "cell_type": "code",
   "execution_count": 3,
   "id": "7bae80ea-4019-47ab-9599-ef6ad624adcf",
   "metadata": {},
   "outputs": [
    {
     "name": "stdout",
     "output_type": "stream",
     "text": [
      "['2022-01-01', '2022-01-02', '2022-01-03']\n"
     ]
    },
    {
     "data": {
      "text/plain": [
       "['2022-01-01', '2022-01-02', '2022-01-03']"
      ]
     },
     "execution_count": 3,
     "metadata": {},
     "output_type": "execute_result"
    }
   ],
   "source": [
    "from datetime import timedelta                               #импорт класс timedelta\n",
    "from datetime import datetime                                #импорт класс datetime\n",
    "\n",
    "start_date = \"2022-01-01\"                                    # начальная дата\n",
    "end_date = \"2022-01-03\"                                      # конечная дата\n",
    "\n",
    "#start_date = \"2022-01-03\"\n",
    "#end_date = \"2022-01-01\"  \n",
    "\n",
    "#start_date = \"2022-02-30\"\n",
    "#end_date = \"2022-02-31\"\n",
    "list = []\n",
    "def date_range(start_date, end_date):                        # возврат список дат\n",
    "    try:\n",
    "        st_date = datetime.strptime(start_date, '%Y-%m-%d')  # перевод строки в datetime\n",
    "        en_date = datetime.strptime(end_date, '%Y-%m-%d')\n",
    "        if st_date > en_date:                                #если заданный период  не корректен\n",
    "            result = list.append()                           # возрват пустой список\n",
    "        else:\n",
    "            while st_date <= en_date:                        # если заданный период корректен итеррируемм по всем датам\n",
    "                date_to_str = st_date.strftime('%Y-%m-%d')\n",
    "                result = list.append(date_to_str)\n",
    "                st_date = st_date + timedelta(days=1)\n",
    "        return rezult\n",
    "    except:\n",
    "        print(list)\n",
    "date_range(start_date, end_date)                            # вызов функции\n",
    "\n",
    "['2022-01-01', '2022-01-02', '2022-01-03']\n",
    "\n"
   ]
  },
  {
   "cell_type": "code",
   "execution_count": null,
   "id": "7326f294-03ce-4c17-8ba4-8d721b706dfa",
   "metadata": {},
   "outputs": [],
   "source": []
  }
 ],
 "metadata": {
  "kernelspec": {
   "display_name": "Python 3 (ipykernel)",
   "language": "python",
   "name": "python3"
  },
  "language_info": {
   "codemirror_mode": {
    "name": "ipython",
    "version": 3
   },
   "file_extension": ".py",
   "mimetype": "text/x-python",
   "name": "python",
   "nbconvert_exporter": "python",
   "pygments_lexer": "ipython3",
   "version": "3.12.7"
  }
 },
 "nbformat": 4,
 "nbformat_minor": 5
}
